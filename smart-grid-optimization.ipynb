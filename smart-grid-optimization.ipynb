{
 "cells": [
  {
   "cell_type": "code",
   "execution_count": null,
   "id": "9442a16a-9d79-4fb0-b9dd-cad617a23d66",
   "metadata": {},
   "outputs": [],
   "source": [
    "## imports\n",
    "\n",
    "import requests\n",
    "import pandas as pd\n",
    "import matplotlib.pyplot as plt\n",
    "import copy\n",
    "\n",
    "import pypsa\n"
   ]
  },
  {
   "cell_type": "markdown",
   "id": "5ef3bf51-8f75-4446-9522-62cd15410231",
   "metadata": {},
   "source": [
    "### Define OPSD Link for data"
   ]
  },
  {
   "cell_type": "code",
   "execution_count": null,
   "id": "0037f728-6cc1-4ec0-8506-351bcbfc97f3",
   "metadata": {},
   "outputs": [],
   "source": [
    "# You can find the latest time series data available in the following link: https://data.open-power-system-data.org/time_series/latest/\n",
    "opsd_url = \"https://data.open-power-system-data.org/time_series/2020-10-06/time_series_15min_singleindex.csv\"\n"
   ]
  },
  {
   "cell_type": "markdown",
   "id": "18d97033-4476-4d5f-becd-b909e6f69dde",
   "metadata": {},
   "source": [
    "### Download data from OPSD "
   ]
  },
  {
   "cell_type": "code",
   "execution_count": 1,
   "id": "ee1dc15d-3b36-42e7-9bc0-38c6f8f00271",
   "metadata": {},
   "outputs": [
    {
     "name": "stdout",
     "output_type": "stream",
     "text": [
      "An error occurred while downloading the data:\n",
      "name 'requests' is not defined\n"
     ]
    }
   ],
   "source": [
    "# let's use requests to download the link\n",
    "\n",
    "try:\n",
    "    response = requests.get(opsd_url)\n",
    "    response.raise_for_status()  # Check if the request was successful\n",
    "    # Save the content to a local CSV file\n",
    "    with open(\"opsd_time_series.csv\", \"wb\") as file:\n",
    "        file.write(response.content)\n",
    "    print(\"Download successful! Data saved as 'opsd_time_series.csv'.\")\n",
    "except Exception as e:\n",
    "    print(\"An error occurred while downloading the data:\")\n",
    "    print(e)\n"
   ]
  },
  {
   "cell_type": "markdown",
   "id": "ebd13faf-4ddb-4bdf-a5d2-f8c4dbbbf142",
   "metadata": {},
   "source": [
    "### Create DF from the loaded data"
   ]
  },
  {
   "cell_type": "code",
   "execution_count": null,
   "id": "61810f69-db09-47a4-91b0-1f594a79b02c",
   "metadata": {},
   "outputs": [],
   "source": [
    "try:\n",
    "    df = pd.read_csv(\"opsd_time_series.csv\", parse_dates=[\"utc_timestamp\"], index_col=\"utc_timestamp\")\n",
    "    print(\"Data loaded! Here are the first few rows:\")\n",
    "    print(df.head())\n",
    "except Exception as e:\n",
    "    print(\"An error occurred while loading the CSV file:\")\n",
    "    print(e)"
   ]
  },
  {
   "cell_type": "markdown",
   "id": "634ac02e-6d8a-421b-b41c-2adc80f4c6da",
   "metadata": {},
   "source": [
    "### Check the available countries and load a country data\n"
   ]
  },
  {
   "cell_type": "code",
   "execution_count": null,
   "id": "8f4df23d-70c1-4153-bdf6-8621601fbc80",
   "metadata": {},
   "outputs": [],
   "source": [
    "print(df.columns.tolist())\n",
    "\n",
    "load_column = \"NL_load_actual_entsoe_transparency\"\n"
   ]
  },
  {
   "cell_type": "markdown",
   "id": "ece45f13-6f91-4298-94a0-4f99e0307140",
   "metadata": {},
   "source": [
    "### Loading column from DF"
   ]
  },
  {
   "cell_type": "code",
   "execution_count": null,
   "id": "399f99e7-9f98-4352-9f25-ac837a486133",
   "metadata": {},
   "outputs": [],
   "source": [
    "if load_column in df.columns:\n",
    "    # Extract the load data and convert it to an hourly resolution (averaging 15-min data if needed)\n",
    "    load_data = df[load_column]\n",
    "    # Resample to hourly mean because many energy system models, including PyPSA, operate on an hourly time resolution. \n",
    "    load_data_hourly = load_data.resample(\"H\").mean()  \n",
    "    print(\"Sample of hourly load data:\")\n",
    "    print(load_data_hourly.head())\n",
    "else:\n",
    "    print(f\"Column '{load_column}' not found. Please check the available columns.\")"
   ]
  },
  {
   "cell_type": "markdown",
   "id": "37e0be31-45cf-4a57-b8d7-4f477edd2e81",
   "metadata": {},
   "source": [
    "### Define & Create PyPSA network components"
   ]
  },
  {
   "cell_type": "code",
   "execution_count": null,
   "id": "ad490462-b876-4d80-b9f2-d66a7482c590",
   "metadata": {},
   "outputs": [],
   "source": [
    "# Create a new PyPSA network\n",
    "network = pypsa.Network()\n",
    "\n",
    "# 1. Add a bus (the central node of our grid)\n",
    "network.add(\"Bus\", \"electricity_bus\")\n",
    "\n",
    "# 2. Add a load using the processed hourly data\n",
    "network.add(\"Load\", \"demand\", bus=\"electricity_bus\", p_set=load_data_hourly)\n",
    "\n",
    "# 3. Add a grid connection: an expandable generator representing the external grid\n",
    "network.add(\"Generator\", \"grid\", bus=\"electricity_bus\", p_nom_extendable=True, marginal_cost=50)\n",
    "\n",
    "# 4. Add a renewable generator with dummy parameters\n",
    "network.add(\"Generator\", \"renewable\", bus=\"electricity_bus\", p_nom=100, p_max_pu=0.5, marginal_cost=0)\n",
    "\n",
    "# 5. Add a battery storage unit with example parameters\n",
    "network.add(\"StorageUnit\",\n",
    "            \"battery\",\n",
    "            bus=\"electricity_bus\",\n",
    "            p_nom=50,             # Battery power capacity (MW)\n",
    "            max_hours=4,          # Storage duration (hours)\n",
    "            efficiency_store=0.95,\n",
    "            efficiency_dispatch=0.95,\n",
    "            capital_cost=200)     # Example capital cost (€ per MW)\n",
    "\n",
    "print(\"Network components added:\")\n",
    "print(\"Buses:\", network.buses.index.tolist())\n",
    "print(\"Loads:\", network.loads.index.tolist())\n",
    "print(\"Generators:\", network.generators.index.tolist())\n",
    "print(\"Storage Units:\", network.storage_units.index.tolist())"
   ]
  },
  {
   "cell_type": "markdown",
   "id": "0bafbd04-8d10-48d7-9630-ebcee4d67ac9",
   "metadata": {},
   "source": [
    "### Define and Run the PyPSA optimization"
   ]
  },
  {
   "cell_type": "code",
   "execution_count": null,
   "id": "3c789620-5651-49b8-b52e-be54f31db31b",
   "metadata": {},
   "outputs": [],
   "source": [
    "# Assuming 'load_data_hourly' is your hourly load series from Step 2\n",
    "# and you have already created your PyPSA network with the necessary components\n",
    "\n",
    "# Set the snapshots of the network to match your time series index\n",
    "network.set_snapshots(load_data_hourly.index)\n",
    "\n",
    "# Run the linear optimal power flow (LOPF) optimization\n",
    "# This minimizes the total system cost while meeting demand and respecting all constraints.\n",
    "network.lopf(network.snapshots)\n",
    "\n",
    "# Print a summary of the optimization result\n",
    "print(\"Objective value (total cost):\", network.objective)\n",
    "\n",
    "# Display the dispatch (power output/input) for the grid connection\n",
    "print(\"\\nGrid Dispatch (first 5 hours):\")\n",
    "print(network.generators_t.loc[:, \"grid\"].head())\n",
    "\n",
    "# Display the battery storage dispatch (positive for discharging, negative for charging)\n",
    "print(\"\\nBattery Dispatch (first 5 hours):\")\n",
    "print(network.storage_units_t.dispatch.loc[:, \"battery\"].head())"
   ]
  },
  {
   "cell_type": "markdown",
   "id": "a5c61f46-f084-4c0b-a0a6-593c33914df9",
   "metadata": {},
   "source": [
    "### Plotting the network & batteries"
   ]
  },
  {
   "cell_type": "code",
   "execution_count": null,
   "id": "21f1d917-a418-4bbd-8a58-7ccd101bcd16",
   "metadata": {},
   "outputs": [],
   "source": [
    "# 1. Plot Grid Dispatch\n",
    "fig, ax = plt.subplots(figsize=(10, 6))\n",
    "network.generators_t[\"grid\"].plot(ax=ax, label=\"Grid Dispatch\", color=\"blue\")\n",
    "ax.set_title(\"Grid Dispatch Over Time\")\n",
    "ax.set_xlabel(\"Time\")\n",
    "ax.set_ylabel(\"Power (MW)\")\n",
    "ax.legend()\n",
    "plt.show()\n",
    "\n",
    "# 2. Plot Battery Dispatch\n",
    "fig, ax = plt.subplots(figsize=(10, 6))\n",
    "# Battery dispatch: positive values indicate discharging; negative, charging.\n",
    "network.storage_units_t.dispatch[\"battery\"].plot(ax=ax, label=\"Battery Dispatch\", color=\"orange\")\n",
    "ax.set_title(\"Battery Dispatch Over Time\")\n",
    "ax.set_xlabel(\"Time\")\n",
    "ax.set_ylabel(\"Power (MW)\")\n",
    "ax.legend()\n",
    "plt.show()\n",
    "\n",
    "# 3. Plot Load Profile (and Renewable Generation if available)\n",
    "fig, ax = plt.subplots(figsize=(10, 6))\n",
    "# Plot load data (demand)\n",
    "network.loads_t[\"demand\"].plot(ax=ax, label=\"Load (Demand)\", color=\"red\")\n",
    "# Optionally, if you have renewable generation added:\n",
    "if \"renewable\" in network.generators.index:\n",
    "    network.generators_t[\"renewable\"].plot(ax=ax, label=\"Renewable Generation\", color=\"green\")\n",
    "ax.set_title(\"Load and Renewable Generation Over Time\")\n",
    "ax.set_xlabel(\"Time\")\n",
    "ax.set_ylabel(\"Power (MW)\")\n",
    "ax.legend()\n",
    "plt.show()\n",
    "\n",
    "# 4. Print Objective Value and a Summary of Dispatch\n",
    "print(\"Objective Value (Total System Cost):\", network.objective)\n",
    "print(\"\\nGrid Dispatch (first 5 snapshots):\")\n",
    "print(network.generators_t.loc[:, \"grid\"].head())\n",
    "print(\"\\nBattery Dispatch (first 5 snapshots):\")\n",
    "print(network.storage_units_t.dispatch.loc[:, \"battery\"].head())"
   ]
  },
  {
   "cell_type": "markdown",
   "id": "0b2e3b60-1c50-4727-8c93-4fb7756d6a18",
   "metadata": {},
   "source": [
    "### Sensitivity Analysis and Model Refinement"
   ]
  },
  {
   "cell_type": "code",
   "execution_count": null,
   "id": "36b84882-331c-4f24-890d-2985ca5cbdca",
   "metadata": {},
   "outputs": [],
   "source": [
    "\n",
    "# Define a range of battery capacities (in MW) to test\n",
    "battery_capacities = [10, 20, 50, 100]  # example capacities\n",
    "objectives = []\n",
    "\n",
    "# Save the original network to reset between scenarios\n",
    "original_network = copy.deepcopy(network)\n",
    "\n",
    "for capacity in battery_capacities:\n",
    "    # Create a copy of the original network for each scenario\n",
    "    test_network = copy.deepcopy(original_network)\n",
    "    \n",
    "    # Update the battery capacity for the test scenario\n",
    "    test_network.storage_units.loc[\"battery\", \"p_nom\"] = capacity\n",
    "    \n",
    "    # Run the optimization (LOPF) over the same snapshots\n",
    "    test_network.lopf(test_network.snapshots)\n",
    "    \n",
    "    # Append the objective value (total system cost)\n",
    "    objectives.append(test_network.objective)\n",
    "    print(f\"Battery Capacity: {capacity} MW, Objective Value: {test_network.objective:.2f}\")\n",
    "\n",
    "# Plot the sensitivity analysis results\n",
    "plt.figure(figsize=(8, 5))\n",
    "plt.plot(battery_capacities, objectives, marker=\"o\", linestyle=\"-\")\n",
    "plt.xlabel(\"Battery Capacity (MW)\")\n",
    "plt.ylabel(\"Objective Value (Total System Cost)\")\n",
    "plt.title(\"Sensitivity Analysis: Impact of Battery Capacity\")\n",
    "plt.grid(True)\n",
    "plt.show()"
   ]
  }
 ],
 "metadata": {
  "kernelspec": {
   "display_name": "Python 3 (ipykernel)",
   "language": "python",
   "name": "python3"
  },
  "language_info": {
   "codemirror_mode": {
    "name": "ipython",
    "version": 3
   },
   "file_extension": ".py",
   "mimetype": "text/x-python",
   "name": "python",
   "nbconvert_exporter": "python",
   "pygments_lexer": "ipython3",
   "version": "3.12.3"
  }
 },
 "nbformat": 4,
 "nbformat_minor": 5
}
